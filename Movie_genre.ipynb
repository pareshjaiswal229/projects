{
 "cells": [
  {
   "cell_type": "markdown",
   "id": "7225bae6",
   "metadata": {},
   "source": [
    "# Movie Genre Classification\n",
    "\n",
    "### Problem Statement:\n",
    "\n",
    "Create a machine learning model that can predict the genre of a movie based on its plot summary or other textual information. You can use techniques like TF-IDF or word embeddings with classifiers such as Naive Bayes, Logistic Regression, or Support Vector Machines.\n"
   ]
  },
  {
   "cell_type": "markdown",
   "id": "3f4f3ce9",
   "metadata": {},
   "source": [
    "### Domain Analysis:\n",
    "Movie genre classification holds significant importance in various aspects of the entertainment industry and beyond.\n",
    "In essence, it is a foundational element that permeates various aspects of the entertainment industry, from user experience and marketing to content production and industry analysis. It facilitates a more efficient and personalized interaction between viewers and the vast array of available content.\n",
    "\n",
    "Movie genre classification using machine learning involves training a model to automatically categorize movies into different genres based on their features(here based on their discription available)."
   ]
  },
  {
   "cell_type": "code",
   "execution_count": 42,
   "id": "e1cd2c81",
   "metadata": {},
   "outputs": [],
   "source": [
    "# Import the required libraries\n",
    "\n",
    "import pandas as pd\n",
    "from sklearn.model_selection import train_test_split\n",
    "from sklearn.feature_extraction.text import CountVectorizer,TfidfVectorizer\n",
    "from sklearn.naive_bayes import MultinomialNB\n",
    "from sklearn.metrics import accuracy_score\n",
    "import string\n",
    "import matplotlib.pyplot as plt\n",
    "import seaborn as sns\n",
    "sns.set(rc={'figure.figsize':(18,8)},style='darkgrid')\n",
    "from time import time\n",
    "from googletrans import Translator\n",
    "from langdetect import detect\n",
    "import pycountry\n",
    "import re\n",
    "import nltk\n",
    "from imblearn.over_sampling import RandomOverSampler"
   ]
  },
  {
   "cell_type": "code",
   "execution_count": 2,
   "id": "8736e785",
   "metadata": {},
   "outputs": [
    {
     "name": "stderr",
     "output_type": "stream",
     "text": [
      "C:\\Users\\pares\\AppData\\Local\\Temp\\ipykernel_10748\\2186741577.py:3: ParserWarning: Falling back to the 'python' engine because the 'c' engine does not support regex separators (separators > 1 char and different from '\\s+' are interpreted as regex); you can avoid this warning by specifying engine='python'.\n",
      "  data = pd.read_csv(r\"C:\\Users\\pares\\OneDrive\\Documents\\codsoft_internship\\Genre Classification Dataset\\train_data.txt\",\n"
     ]
    },
    {
     "data": {
      "text/html": [
       "<div>\n",
       "<style scoped>\n",
       "    .dataframe tbody tr th:only-of-type {\n",
       "        vertical-align: middle;\n",
       "    }\n",
       "\n",
       "    .dataframe tbody tr th {\n",
       "        vertical-align: top;\n",
       "    }\n",
       "\n",
       "    .dataframe thead th {\n",
       "        text-align: right;\n",
       "    }\n",
       "</style>\n",
       "<table border=\"1\" class=\"dataframe\">\n",
       "  <thead>\n",
       "    <tr style=\"text-align: right;\">\n",
       "      <th></th>\n",
       "      <th>Title</th>\n",
       "      <th>Genre</th>\n",
       "      <th>Description</th>\n",
       "    </tr>\n",
       "  </thead>\n",
       "  <tbody>\n",
       "    <tr>\n",
       "      <th>0</th>\n",
       "      <td>Oscar et la dame rose (2009)</td>\n",
       "      <td>drama</td>\n",
       "      <td>Listening in to a conversation between his do...</td>\n",
       "    </tr>\n",
       "    <tr>\n",
       "      <th>1</th>\n",
       "      <td>Cupid (1997)</td>\n",
       "      <td>thriller</td>\n",
       "      <td>A brother and sister with a past incestuous r...</td>\n",
       "    </tr>\n",
       "    <tr>\n",
       "      <th>2</th>\n",
       "      <td>Young, Wild and Wonderful (1980)</td>\n",
       "      <td>adult</td>\n",
       "      <td>As the bus empties the students for their fie...</td>\n",
       "    </tr>\n",
       "    <tr>\n",
       "      <th>3</th>\n",
       "      <td>The Secret Sin (1915)</td>\n",
       "      <td>drama</td>\n",
       "      <td>To help their unemployed father make ends mee...</td>\n",
       "    </tr>\n",
       "    <tr>\n",
       "      <th>4</th>\n",
       "      <td>The Unrecovered (2007)</td>\n",
       "      <td>drama</td>\n",
       "      <td>The film's title refers not only to the un-re...</td>\n",
       "    </tr>\n",
       "    <tr>\n",
       "      <th>...</th>\n",
       "      <td>...</td>\n",
       "      <td>...</td>\n",
       "      <td>...</td>\n",
       "    </tr>\n",
       "    <tr>\n",
       "      <th>54209</th>\n",
       "      <td>\"Bonino\" (1953)</td>\n",
       "      <td>comedy</td>\n",
       "      <td>This short-lived NBC live sitcom centered on ...</td>\n",
       "    </tr>\n",
       "    <tr>\n",
       "      <th>54210</th>\n",
       "      <td>Dead Girls Don't Cry (????)</td>\n",
       "      <td>horror</td>\n",
       "      <td>The NEXT Generation of EXPLOITATION. The sist...</td>\n",
       "    </tr>\n",
       "    <tr>\n",
       "      <th>54211</th>\n",
       "      <td>Ronald Goedemondt: Ze bestaan echt (2008)</td>\n",
       "      <td>documentary</td>\n",
       "      <td>Ze bestaan echt, is a stand-up comedy about g...</td>\n",
       "    </tr>\n",
       "    <tr>\n",
       "      <th>54212</th>\n",
       "      <td>Make Your Own Bed (1944)</td>\n",
       "      <td>comedy</td>\n",
       "      <td>Walter and Vivian live in the country and hav...</td>\n",
       "    </tr>\n",
       "    <tr>\n",
       "      <th>54213</th>\n",
       "      <td>Nature's Fury: Storm of the Century (2006)</td>\n",
       "      <td>history</td>\n",
       "      <td>On Labor Day Weekend, 1935, the most intense ...</td>\n",
       "    </tr>\n",
       "  </tbody>\n",
       "</table>\n",
       "<p>54214 rows × 3 columns</p>\n",
       "</div>"
      ],
      "text/plain": [
       "                                              Title          Genre  \\\n",
       "0                     Oscar et la dame rose (2009)          drama    \n",
       "1                                     Cupid (1997)       thriller    \n",
       "2                 Young, Wild and Wonderful (1980)          adult    \n",
       "3                            The Secret Sin (1915)          drama    \n",
       "4                           The Unrecovered (2007)          drama    \n",
       "...                                             ...            ...   \n",
       "54209                              \"Bonino\" (1953)         comedy    \n",
       "54210                  Dead Girls Don't Cry (????)         horror    \n",
       "54211    Ronald Goedemondt: Ze bestaan echt (2008)    documentary    \n",
       "54212                     Make Your Own Bed (1944)         comedy    \n",
       "54213   Nature's Fury: Storm of the Century (2006)        history    \n",
       "\n",
       "                                             Description  \n",
       "0       Listening in to a conversation between his do...  \n",
       "1       A brother and sister with a past incestuous r...  \n",
       "2       As the bus empties the students for their fie...  \n",
       "3       To help their unemployed father make ends mee...  \n",
       "4       The film's title refers not only to the un-re...  \n",
       "...                                                  ...  \n",
       "54209   This short-lived NBC live sitcom centered on ...  \n",
       "54210   The NEXT Generation of EXPLOITATION. The sist...  \n",
       "54211   Ze bestaan echt, is a stand-up comedy about g...  \n",
       "54212   Walter and Vivian live in the country and hav...  \n",
       "54213   On Labor Day Weekend, 1935, the most intense ...  \n",
       "\n",
       "[54214 rows x 3 columns]"
      ]
     },
     "execution_count": 2,
     "metadata": {},
     "output_type": "execute_result"
    }
   ],
   "source": [
    "# Load the dataset\n",
    "\n",
    "data = pd.read_csv(r\"C:\\Users\\pares\\OneDrive\\Documents\\codsoft_internship\\Genre Classification Dataset\\train_data.txt\",\n",
    "                    sep=':::',names=['Title', 'Genre', 'Description']).reset_index(drop=True)\n",
    "data"
   ]
  },
  {
   "cell_type": "code",
   "execution_count": 3,
   "id": "bf5a5eef",
   "metadata": {},
   "outputs": [
    {
     "name": "stderr",
     "output_type": "stream",
     "text": [
      "C:\\Users\\pares\\AppData\\Local\\Temp\\ipykernel_10748\\3702594279.py:1: ParserWarning: Falling back to the 'python' engine because the 'c' engine does not support regex separators (separators > 1 char and different from '\\s+' are interpreted as regex); you can avoid this warning by specifying engine='python'.\n",
      "  test_data = pd.read_csv(r\"C:\\Users\\pares\\OneDrive\\Documents\\codsoft_internship\\Genre Classification Dataset\\test_data.txt\",\n"
     ]
    },
    {
     "data": {
      "text/html": [
       "<div>\n",
       "<style scoped>\n",
       "    .dataframe tbody tr th:only-of-type {\n",
       "        vertical-align: middle;\n",
       "    }\n",
       "\n",
       "    .dataframe tbody tr th {\n",
       "        vertical-align: top;\n",
       "    }\n",
       "\n",
       "    .dataframe thead th {\n",
       "        text-align: right;\n",
       "    }\n",
       "</style>\n",
       "<table border=\"1\" class=\"dataframe\">\n",
       "  <thead>\n",
       "    <tr style=\"text-align: right;\">\n",
       "      <th></th>\n",
       "      <th>Title</th>\n",
       "      <th>Description</th>\n",
       "    </tr>\n",
       "  </thead>\n",
       "  <tbody>\n",
       "    <tr>\n",
       "      <th>0</th>\n",
       "      <td>Edgar's Lunch (1998)</td>\n",
       "      <td>L.R. Brane loves his life - his car, his apar...</td>\n",
       "    </tr>\n",
       "    <tr>\n",
       "      <th>1</th>\n",
       "      <td>La guerra de papá (1977)</td>\n",
       "      <td>Spain, March 1964: Quico is a very naughty ch...</td>\n",
       "    </tr>\n",
       "    <tr>\n",
       "      <th>2</th>\n",
       "      <td>Off the Beaten Track (2010)</td>\n",
       "      <td>One year in the life of Albin and his family ...</td>\n",
       "    </tr>\n",
       "    <tr>\n",
       "      <th>3</th>\n",
       "      <td>Meu Amigo Hindu (2015)</td>\n",
       "      <td>His father has died, he hasn't spoken with hi...</td>\n",
       "    </tr>\n",
       "    <tr>\n",
       "      <th>4</th>\n",
       "      <td>Er nu zhai (1955)</td>\n",
       "      <td>Before he was known internationally as a mart...</td>\n",
       "    </tr>\n",
       "    <tr>\n",
       "      <th>...</th>\n",
       "      <td>...</td>\n",
       "      <td>...</td>\n",
       "    </tr>\n",
       "    <tr>\n",
       "      <th>54195</th>\n",
       "      <td>\"Tales of Light &amp; Dark\" (2013)</td>\n",
       "      <td>Covering multiple genres, Tales of Light &amp; Da...</td>\n",
       "    </tr>\n",
       "    <tr>\n",
       "      <th>54196</th>\n",
       "      <td>Der letzte Mohikaner (1965)</td>\n",
       "      <td>As Alice and Cora Munro attempt to find their...</td>\n",
       "    </tr>\n",
       "    <tr>\n",
       "      <th>54197</th>\n",
       "      <td>Oliver Twink (2007)</td>\n",
       "      <td>A movie 169 years in the making. Oliver Twist...</td>\n",
       "    </tr>\n",
       "    <tr>\n",
       "      <th>54198</th>\n",
       "      <td>Slipstream (1973)</td>\n",
       "      <td>Popular, but mysterious rock D.J Mike Mallard...</td>\n",
       "    </tr>\n",
       "    <tr>\n",
       "      <th>54199</th>\n",
       "      <td>Curitiba Zero Grau (2010)</td>\n",
       "      <td>Curitiba is a city in movement, with rhythms ...</td>\n",
       "    </tr>\n",
       "  </tbody>\n",
       "</table>\n",
       "<p>54200 rows × 2 columns</p>\n",
       "</div>"
      ],
      "text/plain": [
       "                                  Title  \\\n",
       "0                 Edgar's Lunch (1998)    \n",
       "1             La guerra de papá (1977)    \n",
       "2          Off the Beaten Track (2010)    \n",
       "3               Meu Amigo Hindu (2015)    \n",
       "4                    Er nu zhai (1955)    \n",
       "...                                 ...   \n",
       "54195   \"Tales of Light & Dark\" (2013)    \n",
       "54196      Der letzte Mohikaner (1965)    \n",
       "54197              Oliver Twink (2007)    \n",
       "54198                Slipstream (1973)    \n",
       "54199        Curitiba Zero Grau (2010)    \n",
       "\n",
       "                                             Description  \n",
       "0       L.R. Brane loves his life - his car, his apar...  \n",
       "1       Spain, March 1964: Quico is a very naughty ch...  \n",
       "2       One year in the life of Albin and his family ...  \n",
       "3       His father has died, he hasn't spoken with hi...  \n",
       "4       Before he was known internationally as a mart...  \n",
       "...                                                  ...  \n",
       "54195   Covering multiple genres, Tales of Light & Da...  \n",
       "54196   As Alice and Cora Munro attempt to find their...  \n",
       "54197   A movie 169 years in the making. Oliver Twist...  \n",
       "54198   Popular, but mysterious rock D.J Mike Mallard...  \n",
       "54199   Curitiba is a city in movement, with rhythms ...  \n",
       "\n",
       "[54200 rows x 2 columns]"
      ]
     },
     "execution_count": 3,
     "metadata": {},
     "output_type": "execute_result"
    }
   ],
   "source": [
    "test_data = pd.read_csv(r\"C:\\Users\\pares\\OneDrive\\Documents\\codsoft_internship\\Genre Classification Dataset\\test_data.txt\",\n",
    "                  sep=':::',names=['Title', 'Description']).reset_index(drop=True)\n",
    "test_data"
   ]
  },
  {
   "cell_type": "code",
   "execution_count": 4,
   "id": "bd592860",
   "metadata": {},
   "outputs": [
    {
     "name": "stderr",
     "output_type": "stream",
     "text": [
      "C:\\Users\\pares\\AppData\\Local\\Temp\\ipykernel_10748\\2429885224.py:1: ParserWarning: Falling back to the 'python' engine because the 'c' engine does not support regex separators (separators > 1 char and different from '\\s+' are interpreted as regex); you can avoid this warning by specifying engine='python'.\n",
      "  y_actual = pd.read_csv(r\"C:\\Users\\pares\\OneDrive\\Documents\\codsoft_internship\\Genre Classification Dataset\\test_data_solution.txt\",\n"
     ]
    }
   ],
   "source": [
    "y_actual = pd.read_csv(r\"C:\\Users\\pares\\OneDrive\\Documents\\codsoft_internship\\Genre Classification Dataset\\test_data_solution.txt\",\n",
    "                      sep=':::',names=['Genre', 'Description']).reset_index(drop=True)"
   ]
  },
  {
   "cell_type": "code",
   "execution_count": 5,
   "id": "2c4d7c62",
   "metadata": {},
   "outputs": [
    {
     "data": {
      "text/html": [
       "<div>\n",
       "<style scoped>\n",
       "    .dataframe tbody tr th:only-of-type {\n",
       "        vertical-align: middle;\n",
       "    }\n",
       "\n",
       "    .dataframe tbody tr th {\n",
       "        vertical-align: top;\n",
       "    }\n",
       "\n",
       "    .dataframe thead th {\n",
       "        text-align: right;\n",
       "    }\n",
       "</style>\n",
       "<table border=\"1\" class=\"dataframe\">\n",
       "  <thead>\n",
       "    <tr style=\"text-align: right;\">\n",
       "      <th></th>\n",
       "      <th>Genre</th>\n",
       "      <th>Description</th>\n",
       "    </tr>\n",
       "  </thead>\n",
       "  <tbody>\n",
       "    <tr>\n",
       "      <th>0</th>\n",
       "      <td>thriller</td>\n",
       "      <td>L.R. Brane loves his life - his car, his apar...</td>\n",
       "    </tr>\n",
       "    <tr>\n",
       "      <th>1</th>\n",
       "      <td>comedy</td>\n",
       "      <td>Spain, March 1964: Quico is a very naughty ch...</td>\n",
       "    </tr>\n",
       "    <tr>\n",
       "      <th>2</th>\n",
       "      <td>documentary</td>\n",
       "      <td>One year in the life of Albin and his family ...</td>\n",
       "    </tr>\n",
       "    <tr>\n",
       "      <th>3</th>\n",
       "      <td>drama</td>\n",
       "      <td>His father has died, he hasn't spoken with hi...</td>\n",
       "    </tr>\n",
       "    <tr>\n",
       "      <th>4</th>\n",
       "      <td>drama</td>\n",
       "      <td>Before he was known internationally as a mart...</td>\n",
       "    </tr>\n",
       "  </tbody>\n",
       "</table>\n",
       "</div>"
      ],
      "text/plain": [
       "           Genre                                        Description\n",
       "0      thriller    L.R. Brane loves his life - his car, his apar...\n",
       "1        comedy    Spain, March 1964: Quico is a very naughty ch...\n",
       "2   documentary    One year in the life of Albin and his family ...\n",
       "3         drama    His father has died, he hasn't spoken with hi...\n",
       "4         drama    Before he was known internationally as a mart..."
      ]
     },
     "execution_count": 5,
     "metadata": {},
     "output_type": "execute_result"
    }
   ],
   "source": [
    "y_actual.head()"
   ]
  },
  {
   "cell_type": "code",
   "execution_count": 6,
   "id": "54099911",
   "metadata": {},
   "outputs": [],
   "source": [
    "merged_test_data=pd.merge(test_data, y_actual, on='Description', how='inner')"
   ]
  },
  {
   "cell_type": "code",
   "execution_count": 7,
   "id": "3532070f",
   "metadata": {},
   "outputs": [
    {
     "data": {
      "text/html": [
       "<div>\n",
       "<style scoped>\n",
       "    .dataframe tbody tr th:only-of-type {\n",
       "        vertical-align: middle;\n",
       "    }\n",
       "\n",
       "    .dataframe tbody tr th {\n",
       "        vertical-align: top;\n",
       "    }\n",
       "\n",
       "    .dataframe thead th {\n",
       "        text-align: right;\n",
       "    }\n",
       "</style>\n",
       "<table border=\"1\" class=\"dataframe\">\n",
       "  <thead>\n",
       "    <tr style=\"text-align: right;\">\n",
       "      <th></th>\n",
       "      <th>Title</th>\n",
       "      <th>Description</th>\n",
       "      <th>Genre</th>\n",
       "    </tr>\n",
       "  </thead>\n",
       "  <tbody>\n",
       "    <tr>\n",
       "      <th>0</th>\n",
       "      <td>Edgar's Lunch (1998)</td>\n",
       "      <td>L.R. Brane loves his life - his car, his apar...</td>\n",
       "      <td>thriller</td>\n",
       "    </tr>\n",
       "    <tr>\n",
       "      <th>1</th>\n",
       "      <td>La guerra de papá (1977)</td>\n",
       "      <td>Spain, March 1964: Quico is a very naughty ch...</td>\n",
       "      <td>comedy</td>\n",
       "    </tr>\n",
       "    <tr>\n",
       "      <th>2</th>\n",
       "      <td>Off the Beaten Track (2010)</td>\n",
       "      <td>One year in the life of Albin and his family ...</td>\n",
       "      <td>documentary</td>\n",
       "    </tr>\n",
       "    <tr>\n",
       "      <th>3</th>\n",
       "      <td>Meu Amigo Hindu (2015)</td>\n",
       "      <td>His father has died, he hasn't spoken with hi...</td>\n",
       "      <td>drama</td>\n",
       "    </tr>\n",
       "    <tr>\n",
       "      <th>4</th>\n",
       "      <td>Er nu zhai (1955)</td>\n",
       "      <td>Before he was known internationally as a mart...</td>\n",
       "      <td>drama</td>\n",
       "    </tr>\n",
       "    <tr>\n",
       "      <th>...</th>\n",
       "      <td>...</td>\n",
       "      <td>...</td>\n",
       "      <td>...</td>\n",
       "    </tr>\n",
       "    <tr>\n",
       "      <th>54713</th>\n",
       "      <td>\"Tales of Light &amp; Dark\" (2013)</td>\n",
       "      <td>Covering multiple genres, Tales of Light &amp; Da...</td>\n",
       "      <td>horror</td>\n",
       "    </tr>\n",
       "    <tr>\n",
       "      <th>54714</th>\n",
       "      <td>Der letzte Mohikaner (1965)</td>\n",
       "      <td>As Alice and Cora Munro attempt to find their...</td>\n",
       "      <td>western</td>\n",
       "    </tr>\n",
       "    <tr>\n",
       "      <th>54715</th>\n",
       "      <td>Oliver Twink (2007)</td>\n",
       "      <td>A movie 169 years in the making. Oliver Twist...</td>\n",
       "      <td>adult</td>\n",
       "    </tr>\n",
       "    <tr>\n",
       "      <th>54716</th>\n",
       "      <td>Slipstream (1973)</td>\n",
       "      <td>Popular, but mysterious rock D.J Mike Mallard...</td>\n",
       "      <td>drama</td>\n",
       "    </tr>\n",
       "    <tr>\n",
       "      <th>54717</th>\n",
       "      <td>Curitiba Zero Grau (2010)</td>\n",
       "      <td>Curitiba is a city in movement, with rhythms ...</td>\n",
       "      <td>drama</td>\n",
       "    </tr>\n",
       "  </tbody>\n",
       "</table>\n",
       "<p>54718 rows × 3 columns</p>\n",
       "</div>"
      ],
      "text/plain": [
       "                                  Title  \\\n",
       "0                 Edgar's Lunch (1998)    \n",
       "1             La guerra de papá (1977)    \n",
       "2          Off the Beaten Track (2010)    \n",
       "3               Meu Amigo Hindu (2015)    \n",
       "4                    Er nu zhai (1955)    \n",
       "...                                 ...   \n",
       "54713   \"Tales of Light & Dark\" (2013)    \n",
       "54714      Der letzte Mohikaner (1965)    \n",
       "54715              Oliver Twink (2007)    \n",
       "54716                Slipstream (1973)    \n",
       "54717        Curitiba Zero Grau (2010)    \n",
       "\n",
       "                                             Description          Genre  \n",
       "0       L.R. Brane loves his life - his car, his apar...      thriller   \n",
       "1       Spain, March 1964: Quico is a very naughty ch...        comedy   \n",
       "2       One year in the life of Albin and his family ...   documentary   \n",
       "3       His father has died, he hasn't spoken with hi...         drama   \n",
       "4       Before he was known internationally as a mart...         drama   \n",
       "...                                                  ...            ...  \n",
       "54713   Covering multiple genres, Tales of Light & Da...        horror   \n",
       "54714   As Alice and Cora Munro attempt to find their...       western   \n",
       "54715   A movie 169 years in the making. Oliver Twist...         adult   \n",
       "54716   Popular, but mysterious rock D.J Mike Mallard...         drama   \n",
       "54717   Curitiba is a city in movement, with rhythms ...         drama   \n",
       "\n",
       "[54718 rows x 3 columns]"
      ]
     },
     "execution_count": 7,
     "metadata": {},
     "output_type": "execute_result"
    }
   ],
   "source": [
    "merged_test_data"
   ]
  },
  {
   "cell_type": "markdown",
   "id": "3b6bb63c",
   "metadata": {},
   "source": [
    "## EDA"
   ]
  },
  {
   "cell_type": "code",
   "execution_count": 8,
   "id": "7cb3dd36",
   "metadata": {},
   "outputs": [
    {
     "name": "stdout",
     "output_type": "stream",
     "text": [
      "<class 'pandas.core.frame.DataFrame'>\n",
      "RangeIndex: 54214 entries, 0 to 54213\n",
      "Data columns (total 3 columns):\n",
      " #   Column       Non-Null Count  Dtype \n",
      "---  ------       --------------  ----- \n",
      " 0   Title        54214 non-null  object\n",
      " 1   Genre        54214 non-null  object\n",
      " 2   Description  54214 non-null  object\n",
      "dtypes: object(3)\n",
      "memory usage: 1.2+ MB\n"
     ]
    }
   ],
   "source": [
    "# Summary of the dataset\n",
    "data.info()"
   ]
  },
  {
   "cell_type": "code",
   "execution_count": 9,
   "id": "d78d3bff",
   "metadata": {},
   "outputs": [
    {
     "data": {
      "text/plain": [
       "9"
      ]
     },
     "execution_count": 9,
     "metadata": {},
     "output_type": "execute_result"
    }
   ],
   "source": [
    "#Descriptions included HTTP links\n",
    "data.loc[data['Description'].str.contains(r'http\\S+')].shape[0]"
   ]
  },
  {
   "cell_type": "code",
   "execution_count": 10,
   "id": "9e9638f9",
   "metadata": {},
   "outputs": [
    {
     "data": {
      "text/plain": [
       "Genre\n",
       " drama           13613\n",
       " documentary     13096\n",
       " comedy           7447\n",
       " short            5073\n",
       " horror           2204\n",
       " thriller         1591\n",
       " action           1315\n",
       " western          1032\n",
       " reality-tv        884\n",
       " family            784\n",
       " adventure         775\n",
       " music             731\n",
       " romance           672\n",
       " sci-fi            647\n",
       " adult             590\n",
       " crime             505\n",
       " animation         498\n",
       " sport             432\n",
       " talk-show         391\n",
       " fantasy           323\n",
       " mystery           319\n",
       " musical           277\n",
       " biography         265\n",
       " history           243\n",
       " game-show         194\n",
       " news              181\n",
       " war               132\n",
       "Name: count, dtype: int64"
      ]
     },
     "execution_count": 10,
     "metadata": {},
     "output_type": "execute_result"
    }
   ],
   "source": [
    "data['Genre'].value_counts()"
   ]
  },
  {
   "cell_type": "code",
   "execution_count": 11,
   "id": "5477b1ac",
   "metadata": {},
   "outputs": [
    {
     "data": {
      "text/plain": [
       "array([' drama ', ' thriller ', ' adult ', ' documentary ', ' comedy ',\n",
       "       ' crime ', ' reality-tv ', ' horror ', ' sport ', ' animation ',\n",
       "       ' action ', ' fantasy ', ' short ', ' sci-fi ', ' music ',\n",
       "       ' adventure ', ' talk-show ', ' western ', ' family ', ' mystery ',\n",
       "       ' history ', ' news ', ' biography ', ' romance ', ' game-show ',\n",
       "       ' musical ', ' war '], dtype=object)"
      ]
     },
     "execution_count": 11,
     "metadata": {},
     "output_type": "execute_result"
    }
   ],
   "source": [
    "genre_class=data['Genre'].unique()\n",
    "genre_class"
   ]
  },
  {
   "cell_type": "code",
   "execution_count": 43,
   "id": "aa6fb528",
   "metadata": {},
   "outputs": [
    {
     "data": {
      "image/png": "[encoded data removed]",
      "text/plain": [
       "<Figure size 1800x800 with 1 Axes>"
      ]
     },
     "metadata": {},
     "output_type": "display_data"
    }
   ],
   "source": [
    "ax=sns.countplot(data=data,x='Genre',order=data.Genre.value_counts().index,palette='rocket')\n",
    "ax.bar_label(ax.containers[0])\n",
    "plt.title('Genres Distribution',fontweight='bold',fontsize=16)\n",
    "plt.xticks(rotation=45,fontweight='bold',fontsize=10)\n",
    "plt.show()"
   ]
  },
  {
   "cell_type": "markdown",
   "id": "ec602242",
   "metadata": {},
   "source": [
    "### Text preprocessing"
   ]
  },
  {
   "cell_type": "code",
   "execution_count": 12,
   "id": "b2e3981a",
   "metadata": {},
   "outputs": [
    {
     "name": "stdout",
     "output_type": "stream",
     "text": [
      "Genre mapping\n",
      " drama :0\n",
      " thriller :1\n",
      " adult :2\n",
      " documentary :3\n",
      " comedy :4\n",
      " crime :5\n",
      " reality-tv :6\n",
      " horror :7\n",
      " sport :8\n",
      " animation :9\n",
      " action :10\n",
      " fantasy :11\n",
      " short :12\n",
      " sci-fi :13\n",
      " music :14\n",
      " adventure :15\n",
      " talk-show :16\n",
      " western :17\n",
      " family :18\n",
      " mystery :19\n",
      " history :20\n",
      " news :21\n",
      " biography :22\n",
      " romance :23\n",
      " game-show :24\n",
      " musical :25\n",
      " war :26\n"
     ]
    }
   ],
   "source": [
    "print(\"Genre mapping\")\n",
    "e=0\n",
    "for i in genre_class:\n",
    "    print(f\"{i}:{e}\")\n",
    "    data.loc[data['Genre']==i,'Genre']=e\n",
    "    merged_test_data.loc[merged_test_data['Genre']==i,'Genre']=e\n",
    "    e+=1"
   ]
  },
  {
   "cell_type": "code",
   "execution_count": 13,
   "id": "99f39d38",
   "metadata": {},
   "outputs": [
    {
     "data": {
      "text/html": [
       "<div>\n",
       "<style scoped>\n",
       "    .dataframe tbody tr th:only-of-type {\n",
       "        vertical-align: middle;\n",
       "    }\n",
       "\n",
       "    .dataframe tbody tr th {\n",
       "        vertical-align: top;\n",
       "    }\n",
       "\n",
       "    .dataframe thead th {\n",
       "        text-align: right;\n",
       "    }\n",
       "</style>\n",
       "<table border=\"1\" class=\"dataframe\">\n",
       "  <thead>\n",
       "    <tr style=\"text-align: right;\">\n",
       "      <th></th>\n",
       "      <th>Title</th>\n",
       "      <th>Genre</th>\n",
       "      <th>Description</th>\n",
       "    </tr>\n",
       "  </thead>\n",
       "  <tbody>\n",
       "    <tr>\n",
       "      <th>0</th>\n",
       "      <td>Oscar et la dame rose (2009)</td>\n",
       "      <td>0</td>\n",
       "      <td>Listening in to a conversation between his do...</td>\n",
       "    </tr>\n",
       "    <tr>\n",
       "      <th>1</th>\n",
       "      <td>Cupid (1997)</td>\n",
       "      <td>1</td>\n",
       "      <td>A brother and sister with a past incestuous r...</td>\n",
       "    </tr>\n",
       "    <tr>\n",
       "      <th>2</th>\n",
       "      <td>Young, Wild and Wonderful (1980)</td>\n",
       "      <td>2</td>\n",
       "      <td>As the bus empties the students for their fie...</td>\n",
       "    </tr>\n",
       "    <tr>\n",
       "      <th>3</th>\n",
       "      <td>The Secret Sin (1915)</td>\n",
       "      <td>0</td>\n",
       "      <td>To help their unemployed father make ends mee...</td>\n",
       "    </tr>\n",
       "    <tr>\n",
       "      <th>4</th>\n",
       "      <td>The Unrecovered (2007)</td>\n",
       "      <td>0</td>\n",
       "      <td>The film's title refers not only to the un-re...</td>\n",
       "    </tr>\n",
       "    <tr>\n",
       "      <th>...</th>\n",
       "      <td>...</td>\n",
       "      <td>...</td>\n",
       "      <td>...</td>\n",
       "    </tr>\n",
       "    <tr>\n",
       "      <th>54209</th>\n",
       "      <td>\"Bonino\" (1953)</td>\n",
       "      <td>4</td>\n",
       "      <td>This short-lived NBC live sitcom centered on ...</td>\n",
       "    </tr>\n",
       "    <tr>\n",
       "      <th>54210</th>\n",
       "      <td>Dead Girls Don't Cry (????)</td>\n",
       "      <td>7</td>\n",
       "      <td>The NEXT Generation of EXPLOITATION. The sist...</td>\n",
       "    </tr>\n",
       "    <tr>\n",
       "      <th>54211</th>\n",
       "      <td>Ronald Goedemondt: Ze bestaan echt (2008)</td>\n",
       "      <td>3</td>\n",
       "      <td>Ze bestaan echt, is a stand-up comedy about g...</td>\n",
       "    </tr>\n",
       "    <tr>\n",
       "      <th>54212</th>\n",
       "      <td>Make Your Own Bed (1944)</td>\n",
       "      <td>4</td>\n",
       "      <td>Walter and Vivian live in the country and hav...</td>\n",
       "    </tr>\n",
       "    <tr>\n",
       "      <th>54213</th>\n",
       "      <td>Nature's Fury: Storm of the Century (2006)</td>\n",
       "      <td>20</td>\n",
       "      <td>On Labor Day Weekend, 1935, the most intense ...</td>\n",
       "    </tr>\n",
       "  </tbody>\n",
       "</table>\n",
       "<p>54214 rows × 3 columns</p>\n",
       "</div>"
      ],
      "text/plain": [
       "                                              Title Genre  \\\n",
       "0                     Oscar et la dame rose (2009)      0   \n",
       "1                                     Cupid (1997)      1   \n",
       "2                 Young, Wild and Wonderful (1980)      2   \n",
       "3                            The Secret Sin (1915)      0   \n",
       "4                           The Unrecovered (2007)      0   \n",
       "...                                             ...   ...   \n",
       "54209                              \"Bonino\" (1953)      4   \n",
       "54210                  Dead Girls Don't Cry (????)      7   \n",
       "54211    Ronald Goedemondt: Ze bestaan echt (2008)      3   \n",
       "54212                     Make Your Own Bed (1944)      4   \n",
       "54213   Nature's Fury: Storm of the Century (2006)     20   \n",
       "\n",
       "                                             Description  \n",
       "0       Listening in to a conversation between his do...  \n",
       "1       A brother and sister with a past incestuous r...  \n",
       "2       As the bus empties the students for their fie...  \n",
       "3       To help their unemployed father make ends mee...  \n",
       "4       The film's title refers not only to the un-re...  \n",
       "...                                                  ...  \n",
       "54209   This short-lived NBC live sitcom centered on ...  \n",
       "54210   The NEXT Generation of EXPLOITATION. The sist...  \n",
       "54211   Ze bestaan echt, is a stand-up comedy about g...  \n",
       "54212   Walter and Vivian live in the country and hav...  \n",
       "54213   On Labor Day Weekend, 1935, the most intense ...  \n",
       "\n",
       "[54214 rows x 3 columns]"
      ]
     },
     "execution_count": 13,
     "metadata": {},
     "output_type": "execute_result"
    }
   ],
   "source": [
    "data"
   ]
  },
  {
   "cell_type": "code",
   "execution_count": 14,
   "id": "88f2f5f2",
   "metadata": {},
   "outputs": [
    {
     "data": {
      "text/html": [
       "<div>\n",
       "<style scoped>\n",
       "    .dataframe tbody tr th:only-of-type {\n",
       "        vertical-align: middle;\n",
       "    }\n",
       "\n",
       "    .dataframe tbody tr th {\n",
       "        vertical-align: top;\n",
       "    }\n",
       "\n",
       "    .dataframe thead th {\n",
       "        text-align: right;\n",
       "    }\n",
       "</style>\n",
       "<table border=\"1\" class=\"dataframe\">\n",
       "  <thead>\n",
       "    <tr style=\"text-align: right;\">\n",
       "      <th></th>\n",
       "      <th>Title</th>\n",
       "      <th>Description</th>\n",
       "      <th>Genre</th>\n",
       "    </tr>\n",
       "  </thead>\n",
       "  <tbody>\n",
       "    <tr>\n",
       "      <th>0</th>\n",
       "      <td>Edgar's Lunch (1998)</td>\n",
       "      <td>L.R. Brane loves his life - his car, his apar...</td>\n",
       "      <td>1</td>\n",
       "    </tr>\n",
       "    <tr>\n",
       "      <th>1</th>\n",
       "      <td>La guerra de papá (1977)</td>\n",
       "      <td>Spain, March 1964: Quico is a very naughty ch...</td>\n",
       "      <td>4</td>\n",
       "    </tr>\n",
       "    <tr>\n",
       "      <th>2</th>\n",
       "      <td>Off the Beaten Track (2010)</td>\n",
       "      <td>One year in the life of Albin and his family ...</td>\n",
       "      <td>3</td>\n",
       "    </tr>\n",
       "    <tr>\n",
       "      <th>3</th>\n",
       "      <td>Meu Amigo Hindu (2015)</td>\n",
       "      <td>His father has died, he hasn't spoken with hi...</td>\n",
       "      <td>0</td>\n",
       "    </tr>\n",
       "    <tr>\n",
       "      <th>4</th>\n",
       "      <td>Er nu zhai (1955)</td>\n",
       "      <td>Before he was known internationally as a mart...</td>\n",
       "      <td>0</td>\n",
       "    </tr>\n",
       "    <tr>\n",
       "      <th>...</th>\n",
       "      <td>...</td>\n",
       "      <td>...</td>\n",
       "      <td>...</td>\n",
       "    </tr>\n",
       "    <tr>\n",
       "      <th>54713</th>\n",
       "      <td>\"Tales of Light &amp; Dark\" (2013)</td>\n",
       "      <td>Covering multiple genres, Tales of Light &amp; Da...</td>\n",
       "      <td>7</td>\n",
       "    </tr>\n",
       "    <tr>\n",
       "      <th>54714</th>\n",
       "      <td>Der letzte Mohikaner (1965)</td>\n",
       "      <td>As Alice and Cora Munro attempt to find their...</td>\n",
       "      <td>17</td>\n",
       "    </tr>\n",
       "    <tr>\n",
       "      <th>54715</th>\n",
       "      <td>Oliver Twink (2007)</td>\n",
       "      <td>A movie 169 years in the making. Oliver Twist...</td>\n",
       "      <td>2</td>\n",
       "    </tr>\n",
       "    <tr>\n",
       "      <th>54716</th>\n",
       "      <td>Slipstream (1973)</td>\n",
       "      <td>Popular, but mysterious rock D.J Mike Mallard...</td>\n",
       "      <td>0</td>\n",
       "    </tr>\n",
       "    <tr>\n",
       "      <th>54717</th>\n",
       "      <td>Curitiba Zero Grau (2010)</td>\n",
       "      <td>Curitiba is a city in movement, with rhythms ...</td>\n",
       "      <td>0</td>\n",
       "    </tr>\n",
       "  </tbody>\n",
       "</table>\n",
       "<p>54718 rows × 3 columns</p>\n",
       "</div>"
      ],
      "text/plain": [
       "                                  Title  \\\n",
       "0                 Edgar's Lunch (1998)    \n",
       "1             La guerra de papá (1977)    \n",
       "2          Off the Beaten Track (2010)    \n",
       "3               Meu Amigo Hindu (2015)    \n",
       "4                    Er nu zhai (1955)    \n",
       "...                                 ...   \n",
       "54713   \"Tales of Light & Dark\" (2013)    \n",
       "54714      Der letzte Mohikaner (1965)    \n",
       "54715              Oliver Twink (2007)    \n",
       "54716                Slipstream (1973)    \n",
       "54717        Curitiba Zero Grau (2010)    \n",
       "\n",
       "                                             Description Genre  \n",
       "0       L.R. Brane loves his life - his car, his apar...     1  \n",
       "1       Spain, March 1964: Quico is a very naughty ch...     4  \n",
       "2       One year in the life of Albin and his family ...     3  \n",
       "3       His father has died, he hasn't spoken with hi...     0  \n",
       "4       Before he was known internationally as a mart...     0  \n",
       "...                                                  ...   ...  \n",
       "54713   Covering multiple genres, Tales of Light & Da...     7  \n",
       "54714   As Alice and Cora Munro attempt to find their...    17  \n",
       "54715   A movie 169 years in the making. Oliver Twist...     2  \n",
       "54716   Popular, but mysterious rock D.J Mike Mallard...     0  \n",
       "54717   Curitiba is a city in movement, with rhythms ...     0  \n",
       "\n",
       "[54718 rows x 3 columns]"
      ]
     },
     "execution_count": 14,
     "metadata": {},
     "output_type": "execute_result"
    }
   ],
   "source": [
    "merged_test_data"
   ]
  },
  {
   "cell_type": "code",
   "execution_count": 15,
   "id": "e6295aa9",
   "metadata": {},
   "outputs": [],
   "source": [
    "#clean the description text\n",
    "\n",
    "def clean_text(text):\n",
    "    # Remove strange pattern in different languages if exist \n",
    "    text = re.sub('Mail <svaradi@sprynet.com> for translation. ','',text)\n",
    "    # Remove twitter handles\n",
    "    text = re.sub(r'@\\S+', '', text)\n",
    "    # Remove URLs\n",
    "    text = re.sub(r'http\\S+', '', text)\n",
    "    # Remove punctuations\n",
    "    text = re.sub(f'[{string.punctuation}]','',text)\n",
    "    # Remove numbers\n",
    "    text = re.sub(f'[{string.digits}]','',text)\n",
    "    # Remove single charachters \n",
    "    text = re.sub(r'\\s+[a-zA-Z]\\s+', ' ', text)\n",
    "    \n",
    "    return text"
   ]
  },
  {
   "cell_type": "code",
   "execution_count": 16,
   "id": "6b5ccd70",
   "metadata": {},
   "outputs": [
    {
     "data": {
      "text/html": [
       "<div>\n",
       "<style scoped>\n",
       "    .dataframe tbody tr th:only-of-type {\n",
       "        vertical-align: middle;\n",
       "    }\n",
       "\n",
       "    .dataframe tbody tr th {\n",
       "        vertical-align: top;\n",
       "    }\n",
       "\n",
       "    .dataframe thead th {\n",
       "        text-align: right;\n",
       "    }\n",
       "</style>\n",
       "<table border=\"1\" class=\"dataframe\">\n",
       "  <thead>\n",
       "    <tr style=\"text-align: right;\">\n",
       "      <th></th>\n",
       "      <th>Title</th>\n",
       "      <th>Genre</th>\n",
       "      <th>Description</th>\n",
       "      <th>text_clean</th>\n",
       "    </tr>\n",
       "  </thead>\n",
       "  <tbody>\n",
       "    <tr>\n",
       "      <th>0</th>\n",
       "      <td>Oscar et la dame rose (2009)</td>\n",
       "      <td>0</td>\n",
       "      <td>Listening in to a conversation between his do...</td>\n",
       "      <td>Listening in to conversation between his doct...</td>\n",
       "    </tr>\n",
       "    <tr>\n",
       "      <th>1</th>\n",
       "      <td>Cupid (1997)</td>\n",
       "      <td>1</td>\n",
       "      <td>A brother and sister with a past incestuous r...</td>\n",
       "      <td>brother and sister with past incestuous relat...</td>\n",
       "    </tr>\n",
       "    <tr>\n",
       "      <th>2</th>\n",
       "      <td>Young, Wild and Wonderful (1980)</td>\n",
       "      <td>2</td>\n",
       "      <td>As the bus empties the students for their fie...</td>\n",
       "      <td>As the bus empties the students for their fie...</td>\n",
       "    </tr>\n",
       "    <tr>\n",
       "      <th>3</th>\n",
       "      <td>The Secret Sin (1915)</td>\n",
       "      <td>0</td>\n",
       "      <td>To help their unemployed father make ends mee...</td>\n",
       "      <td>To help their unemployed father make ends mee...</td>\n",
       "    </tr>\n",
       "    <tr>\n",
       "      <th>4</th>\n",
       "      <td>The Unrecovered (2007)</td>\n",
       "      <td>0</td>\n",
       "      <td>The film's title refers not only to the un-re...</td>\n",
       "      <td>The films title refers not only to the unreco...</td>\n",
       "    </tr>\n",
       "  </tbody>\n",
       "</table>\n",
       "</div>"
      ],
      "text/plain": [
       "                                Title Genre  \\\n",
       "0       Oscar et la dame rose (2009)      0   \n",
       "1                       Cupid (1997)      1   \n",
       "2   Young, Wild and Wonderful (1980)      2   \n",
       "3              The Secret Sin (1915)      0   \n",
       "4             The Unrecovered (2007)      0   \n",
       "\n",
       "                                         Description  \\\n",
       "0   Listening in to a conversation between his do...   \n",
       "1   A brother and sister with a past incestuous r...   \n",
       "2   As the bus empties the students for their fie...   \n",
       "3   To help their unemployed father make ends mee...   \n",
       "4   The film's title refers not only to the un-re...   \n",
       "\n",
       "                                          text_clean  \n",
       "0   Listening in to conversation between his doct...  \n",
       "1   brother and sister with past incestuous relat...  \n",
       "2   As the bus empties the students for their fie...  \n",
       "3   To help their unemployed father make ends mee...  \n",
       "4   The films title refers not only to the unreco...  "
      ]
     },
     "execution_count": 16,
     "metadata": {},
     "output_type": "execute_result"
    }
   ],
   "source": [
    "data['text_clean'] = data['Description'].apply(clean_text)\n",
    "data.head()"
   ]
  },
  {
   "cell_type": "code",
   "execution_count": 17,
   "id": "a92b192b",
   "metadata": {},
   "outputs": [],
   "source": [
    "merged_test_data['text_clean'] = merged_test_data['Description'].apply(lambda x: clean_text(x))"
   ]
  },
  {
   "cell_type": "code",
   "execution_count": 18,
   "id": "ca006276",
   "metadata": {},
   "outputs": [
    {
     "data": {
      "text/html": [
       "<div>\n",
       "<style scoped>\n",
       "    .dataframe tbody tr th:only-of-type {\n",
       "        vertical-align: middle;\n",
       "    }\n",
       "\n",
       "    .dataframe tbody tr th {\n",
       "        vertical-align: top;\n",
       "    }\n",
       "\n",
       "    .dataframe thead th {\n",
       "        text-align: right;\n",
       "    }\n",
       "</style>\n",
       "<table border=\"1\" class=\"dataframe\">\n",
       "  <thead>\n",
       "    <tr style=\"text-align: right;\">\n",
       "      <th></th>\n",
       "      <th>Title</th>\n",
       "      <th>Description</th>\n",
       "      <th>Genre</th>\n",
       "      <th>text_clean</th>\n",
       "    </tr>\n",
       "  </thead>\n",
       "  <tbody>\n",
       "    <tr>\n",
       "      <th>0</th>\n",
       "      <td>Edgar's Lunch (1998)</td>\n",
       "      <td>L.R. Brane loves his life - his car, his apar...</td>\n",
       "      <td>1</td>\n",
       "      <td>LR Brane loves his life  his car his apartmen...</td>\n",
       "    </tr>\n",
       "    <tr>\n",
       "      <th>1</th>\n",
       "      <td>La guerra de papá (1977)</td>\n",
       "      <td>Spain, March 1964: Quico is a very naughty ch...</td>\n",
       "      <td>4</td>\n",
       "      <td>Spain March  Quico is very naughty child of t...</td>\n",
       "    </tr>\n",
       "    <tr>\n",
       "      <th>2</th>\n",
       "      <td>Off the Beaten Track (2010)</td>\n",
       "      <td>One year in the life of Albin and his family ...</td>\n",
       "      <td>3</td>\n",
       "      <td>One year in the life of Albin and his family ...</td>\n",
       "    </tr>\n",
       "    <tr>\n",
       "      <th>3</th>\n",
       "      <td>Meu Amigo Hindu (2015)</td>\n",
       "      <td>His father has died, he hasn't spoken with hi...</td>\n",
       "      <td>0</td>\n",
       "      <td>His father has died he hasnt spoken with his ...</td>\n",
       "    </tr>\n",
       "    <tr>\n",
       "      <th>4</th>\n",
       "      <td>Er nu zhai (1955)</td>\n",
       "      <td>Before he was known internationally as a mart...</td>\n",
       "      <td>0</td>\n",
       "      <td>Before he was known internationally as martia...</td>\n",
       "    </tr>\n",
       "  </tbody>\n",
       "</table>\n",
       "</div>"
      ],
      "text/plain": [
       "                           Title  \\\n",
       "0          Edgar's Lunch (1998)    \n",
       "1      La guerra de papá (1977)    \n",
       "2   Off the Beaten Track (2010)    \n",
       "3        Meu Amigo Hindu (2015)    \n",
       "4             Er nu zhai (1955)    \n",
       "\n",
       "                                         Description Genre  \\\n",
       "0   L.R. Brane loves his life - his car, his apar...     1   \n",
       "1   Spain, March 1964: Quico is a very naughty ch...     4   \n",
       "2   One year in the life of Albin and his family ...     3   \n",
       "3   His father has died, he hasn't spoken with hi...     0   \n",
       "4   Before he was known internationally as a mart...     0   \n",
       "\n",
       "                                          text_clean  \n",
       "0   LR Brane loves his life  his car his apartmen...  \n",
       "1   Spain March  Quico is very naughty child of t...  \n",
       "2   One year in the life of Albin and his family ...  \n",
       "3   His father has died he hasnt spoken with his ...  \n",
       "4   Before he was known internationally as martia...  "
      ]
     },
     "execution_count": 18,
     "metadata": {},
     "output_type": "execute_result"
    }
   ],
   "source": [
    "merged_test_data.head()"
   ]
  },
  {
   "cell_type": "markdown",
   "id": "bfe2d9c0",
   "metadata": {},
   "source": [
    "### TF-IDF"
   ]
  },
  {
   "cell_type": "code",
   "execution_count": 19,
   "id": "ca01332b",
   "metadata": {},
   "outputs": [
    {
     "data": {
      "text/plain": [
       "array([0, 1, 2, ..., 3, 4, 20], dtype=object)"
      ]
     },
     "execution_count": 19,
     "metadata": {},
     "output_type": "execute_result"
    }
   ],
   "source": [
    "# Splitting x and y\n",
    "\n",
    "X = data['text_clean'].values\n",
    "y_train = data['Genre'].values\n",
    "X_test=merged_test_data['text_clean'].values\n",
    "y_test=merged_test_data['Genre'].values\n",
    "y_train\n",
    "\n"
   ]
  },
  {
   "cell_type": "code",
   "execution_count": 20,
   "id": "025f1fbb",
   "metadata": {},
   "outputs": [
    {
     "data": {
      "text/plain": [
       "numpy.ndarray"
      ]
     },
     "execution_count": 20,
     "metadata": {},
     "output_type": "execute_result"
    }
   ],
   "source": [
    "type(X)"
   ]
  },
  {
   "cell_type": "code",
   "execution_count": 21,
   "id": "7b79fed4",
   "metadata": {},
   "outputs": [
    {
     "data": {
      "text/plain": [
       "array([' LR Brane loves his life  his car his apartment his job but especially his girlfriend Vespa One day while showering Vespa runs out of shampoo LR runs across the street to convenience store to buy some more quick trip of no more than few minutes When he returns Vespa is gone and every trace of her existence has been wiped out LRs life becomes tortured existence as one strange event after another occurs to confirm in his mind that conspiracy is working against his finding Vespa',\n",
       "       ' Spain March  Quico is very naughty child of three belonging to wealthy middleclass family Since Cristinas birth he feels he has lost the privileged position of prince of the house for his eight months old sister So with his brother Juan who is eight years old and is quite disobedient spend their time committing prank after prank causing the resulting anger of his mother the nanny and the old housemaid The rest of the family members are two much older brothers his resigned mother and retrograde father of authoritarian ideas But many years have passed and the civil war that won the despot Don Pablo is simply for their children Dads war',\n",
       "       ' One year in the life of Albin and his family of shepherds in the North of Transylvania In direct cinema style this documentary follows their day to day routines and their struggle to adapt to new world where traditions are gradually replaced by modern values Since joining the EU Romania has been facing like several other Eastern European countries the pressure of modern values introducing in farmers lives the cruel notion of competition the temptation of migrating to the higher salaries abroad and the marginalization of locally produced food against industrial products',\n",
       "       ...,\n",
       "       ' movie  years in the making Oliver Twist the Artful Dodger and Fagin The lovers will love Fagins waifs Plus theres Mr Bumble and the hairychested Detective Brownlow Its  the location is South Beach FL Fagin is pimp and his boys are whores But that codependent bitch Nancy still gets it in the end',\n",
       "       ' Popular but mysterious rock DJ Mike Mallard Askew who broadcasts his show from an isolated farmhouse is one day found by four young people who land their plane nearby his farm One of them Kathy Oatman falls for Mallard who is also battling with his producer Rill over his refusal to play the commercial music that the radio station and record companies want him to play',\n",
       "       ' Curitiba is city in movement with rhythms and different pulsations great composed mosaic for fragments of different colors and sizes that coexist however nor always are touched city of contrasts light and darkness indifference and solidarity errors and repentances Its the coldest week on Curitibas winter The scenery where faces pass for the windows of the cars and people divide the sidewalk without its looks if cross that four histories are counted on four men who have their lives transformed when the conscience talk louder than the survival instinct'],\n",
       "      dtype=object)"
      ]
     },
     "execution_count": 21,
     "metadata": {},
     "output_type": "execute_result"
    }
   ],
   "source": [
    "X_test"
   ]
  },
  {
   "cell_type": "code",
   "execution_count": 22,
   "id": "a7c2120d",
   "metadata": {},
   "outputs": [
    {
     "data": {
      "text/plain": [
       "array([ 0,  1,  2, ...,  3,  4, 20])"
      ]
     },
     "execution_count": 22,
     "metadata": {},
     "output_type": "execute_result"
    }
   ],
   "source": [
    "# Datatype for y_train is object. lets convert it into int\n",
    "y_train = y_train.astype('int')\n",
    "y_train"
   ]
  },
  {
   "cell_type": "code",
   "execution_count": 23,
   "id": "088ec704",
   "metadata": {},
   "outputs": [
    {
     "data": {
      "text/plain": [
       "array([1, 4, 3, ..., 2, 0, 0], dtype=object)"
      ]
     },
     "execution_count": 23,
     "metadata": {},
     "output_type": "execute_result"
    }
   ],
   "source": [
    "y_test"
   ]
  },
  {
   "cell_type": "code",
   "execution_count": 24,
   "id": "c74d2853",
   "metadata": {},
   "outputs": [
    {
     "data": {
      "text/plain": [
       "array([1, 4, 3, ..., 2, 0, 0])"
      ]
     },
     "execution_count": 24,
     "metadata": {},
     "output_type": "execute_result"
    }
   ],
   "source": [
    "# Datatype for y_train is object. lets convert it into int\n",
    "y_test = y_test.astype('int')\n",
    "y_test"
   ]
  },
  {
   "cell_type": "code",
   "execution_count": 25,
   "id": "9e149bd4",
   "metadata": {},
   "outputs": [],
   "source": [
    "# Using TfidfVectorizer\n",
    "tfidf_vectorizer = TfidfVectorizer(lowercase=True, #Lowercase chars\n",
    "                                   ngram_range=(1,1), #Capture only single words in each text(unigrams)\n",
    "                                   stop_words='english',#Remove stop_words\n",
    "                                   min_df=2)#Ignore words that appears less than 2 times\n",
    "x_train = tfidf_vectorizer.fit_transform(data['Description'])\n",
    "x_test = tfidf_vectorizer.transform(merged_test_data['Description'])"
   ]
  },
  {
   "cell_type": "code",
   "execution_count": 27,
   "id": "d7897019",
   "metadata": {},
   "outputs": [
    {
     "data": {
      "text/plain": [
       "array(['00', '000', '0000', ..., 'řya', 'ťmatto', 'ťthe'], dtype=object)"
      ]
     },
     "execution_count": 27,
     "metadata": {},
     "output_type": "execute_result"
    }
   ],
   "source": [
    "tfidf_vectorizer.get_feature_names_out()"
   ]
  },
  {
   "cell_type": "code",
   "execution_count": 28,
   "id": "68eb72ac",
   "metadata": {},
   "outputs": [
    {
     "data": {
      "text/plain": [
       "(54214, 55245)"
      ]
     },
     "execution_count": 28,
     "metadata": {},
     "output_type": "execute_result"
    }
   ],
   "source": [
    "x_train.shape"
   ]
  },
  {
   "cell_type": "code",
   "execution_count": 29,
   "id": "52556ede",
   "metadata": {},
   "outputs": [
    {
     "data": {
      "text/plain": [
       "(54718, 55245)"
      ]
     },
     "execution_count": 29,
     "metadata": {},
     "output_type": "execute_result"
    }
   ],
   "source": [
    "x_test.shape"
   ]
  },
  {
   "cell_type": "code",
   "execution_count": 37,
   "id": "de8c1509",
   "metadata": {},
   "outputs": [],
   "source": [
    "## Model creation\n",
    "from sklearn.naive_bayes import BernoulliNB\n",
    "\n",
    "## model object creation\n",
    "nb=BernoulliNB(alpha=0.01) \n",
    "\n",
    "## fitting the model\n",
    "nb.fit(x_train,y_train)\n",
    "\n",
    "## getting the prediction\n",
    "y_hat=nb.predict(x_test) "
   ]
  },
  {
   "cell_type": "code",
   "execution_count": 38,
   "id": "c92ac1e1",
   "metadata": {},
   "outputs": [
    {
     "data": {
      "text/plain": [
       "array([4, 0, 3, ..., 0, 4, 3])"
      ]
     },
     "execution_count": 38,
     "metadata": {},
     "output_type": "execute_result"
    }
   ],
   "source": [
    "y_hat"
   ]
  },
  {
   "cell_type": "code",
   "execution_count": 39,
   "id": "532a4d19",
   "metadata": {},
   "outputs": [
    {
     "data": {
      "text/plain": [
       "array([1, 4, 3, ..., 2, 0, 0])"
      ]
     },
     "execution_count": 39,
     "metadata": {},
     "output_type": "execute_result"
    }
   ],
   "source": [
    "y_test"
   ]
  },
  {
   "cell_type": "code",
   "execution_count": 40,
   "id": "f346fbf6",
   "metadata": {},
   "outputs": [
    {
     "name": "stdout",
     "output_type": "stream",
     "text": [
      "              precision    recall  f1-score   support\n",
      "\n",
      "           0       0.58      0.65      0.62     13825\n",
      "           1       0.27      0.20      0.23      1593\n",
      "           2       0.55      0.38      0.45       590\n",
      "           3       0.69      0.77      0.73     13116\n",
      "           4       0.52      0.57      0.54      7487\n",
      "           5       0.21      0.09      0.13       505\n",
      "           6       0.41      0.36      0.38       887\n",
      "           7       0.60      0.59      0.60      2205\n",
      "           8       0.58      0.51      0.54       433\n",
      "           9       0.27      0.14      0.19       502\n",
      "          10       0.43      0.38      0.40      1314\n",
      "          11       0.16      0.07      0.10       325\n",
      "          12       0.36      0.38      0.37      5112\n",
      "          13       0.44      0.34      0.38       648\n",
      "          14       0.52      0.64      0.57       829\n",
      "          15       0.39      0.21      0.27       780\n",
      "          16       0.31      0.26      0.28       402\n",
      "          17       0.90      0.83      0.86      1036\n",
      "          18       0.42      0.14      0.21       828\n",
      "          19       0.20      0.03      0.04       318\n",
      "          20       0.17      0.03      0.05       245\n",
      "          21       0.30      0.09      0.14       181\n",
      "          22       0.04      0.00      0.01       264\n",
      "          23       0.28      0.13      0.18       678\n",
      "          24       0.90      0.59      0.71       193\n",
      "          25       0.45      0.10      0.16       290\n",
      "          26       0.53      0.23      0.32       132\n",
      "\n",
      "    accuracy                           0.56     54718\n",
      "   macro avg       0.42      0.32      0.35     54718\n",
      "weighted avg       0.54      0.56      0.54     54718\n",
      "\n"
     ]
    }
   ],
   "source": [
    "## Evaluating the model\n",
    "from sklearn.metrics import classification_report,confusion_matrix\n",
    "\n",
    "print(classification_report(y_test,y_hat))"
   ]
  },
  {
   "cell_type": "code",
   "execution_count": null,
   "id": "e8148bd9",
   "metadata": {},
   "outputs": [],
   "source": []
  }
 ],
 "metadata": {
  "kernelspec": {
   "display_name": "Python 3 (ipykernel)",
   "language": "python",
   "name": "python3"
  },
  "language_info": {
   "codemirror_mode": {
    "name": "ipython",
    "version": 3
   },
   "file_extension": ".py",
   "mimetype": "text/x-python",
   "name": "python",
   "nbconvert_exporter": "python",
   "pygments_lexer": "ipython3",
   "version": "3.11.5"
  }
 },
 "nbformat": 4,
 "nbformat_minor": 5
}
